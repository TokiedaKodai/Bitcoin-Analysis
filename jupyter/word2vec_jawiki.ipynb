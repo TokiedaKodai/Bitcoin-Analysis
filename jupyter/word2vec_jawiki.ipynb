{
 "cells": [
  {
   "cell_type": "code",
   "execution_count": 1,
   "metadata": {
    "scrolled": true
   },
   "outputs": [],
   "source": [
    "from gensim.models import Word2Vec"
   ]
  },
  {
   "cell_type": "code",
   "execution_count": 2,
   "metadata": {},
   "outputs": [],
   "source": [
    "model_file = '../../jawiki/jawiki.model'\n",
    "model = Word2Vec.load(model_file)"
   ]
  },
  {
   "cell_type": "code",
   "execution_count": 3,
   "metadata": {},
   "outputs": [
    {
     "data": {
      "text/plain": [
       "[('FreeBSD', 0.8882779479026794),\n",
       " ('Java', 0.8878686428070068),\n",
       " ('Debian', 0.8824142217636108),\n",
       " ('OS', 0.8725356459617615),\n",
       " ('Mozilla', 0.8713946342468262),\n",
       " ('Ubuntu', 0.8708611726760864),\n",
       " ('OpenBSD', 0.8694183826446533),\n",
       " ('オペレーティングシステム', 0.8690987825393677),\n",
       " ('UNIX', 0.8677473664283752),\n",
       " ('ディストリビューション', 0.8647464513778687)]"
      ]
     },
     "execution_count": 3,
     "metadata": {},
     "output_type": "execute_result"
    }
   ],
   "source": [
    "model.wv.most_similar(positive='Linux')"
   ]
  },
  {
   "cell_type": "code",
   "execution_count": 4,
   "metadata": {},
   "outputs": [
    {
     "data": {
      "text/plain": [
       "[('OS', 0.8603823184967041),\n",
       " ('Windows', 0.8499979972839355),\n",
       " ('Linux', 0.8328115940093994),\n",
       " ('Macintosh', 0.8197810053825378),\n",
       " ('WordPerfect', 0.8172780871391296),\n",
       " ('Apple', 0.8144957423210144),\n",
       " ('Netscape', 0.8005475997924805),\n",
       " ('Silverlight', 0.7955423593521118),\n",
       " ('macOS', 0.792951226234436),\n",
       " ('Chrome', 0.783332884311676)]"
      ]
     },
     "execution_count": 4,
     "metadata": {},
     "output_type": "execute_result"
    }
   ],
   "source": [
    "model.wv.most_similar(positive='Mac')"
   ]
  },
  {
   "cell_type": "code",
   "execution_count": 5,
   "metadata": {},
   "outputs": [
    {
     "data": {
      "text/plain": [
       "[('トランザクション', 0.6625949740409851),\n",
       " ('プロトコル', 0.6584101915359497),\n",
       " ('アプリケーション', 0.6536393761634827),\n",
       " ('リソース', 0.6520714163780212),\n",
       " ('暗号', 0.6460739374160767),\n",
       " ('ストレージ', 0.6448507308959961),\n",
       " ('決済', 0.6440463066101074),\n",
       " ('NEM', 0.6436783671379089),\n",
       " ('ハードウェア', 0.6423289775848389),\n",
       " ('ハイパーバイザ', 0.6352106332778931)]"
      ]
     },
     "execution_count": 5,
     "metadata": {},
     "output_type": "execute_result"
    }
   ],
   "source": [
    "model.wv.most_similar(positive=['通貨', '仮想'])"
   ]
  },
  {
   "cell_type": "code",
   "execution_count": 6,
   "metadata": {},
   "outputs": [
    {
     "data": {
      "text/plain": [
       "[('MLM', 0.7019785642623901),\n",
       " ('pipeline', 0.7000788450241089),\n",
       " ('SMT', 0.6954718232154846),\n",
       " ('MRS', 0.6910381317138672),\n",
       " ('ITS', 0.6882740259170532),\n",
       " ('PWR', 0.6868433952331543),\n",
       " ('EDC', 0.6836547255516052),\n",
       " ('HVDC', 0.6764290928840637),\n",
       " ('PTC', 0.6756739616394043),\n",
       " ('EMC', 0.675080418586731)]"
      ]
     },
     "execution_count": 6,
     "metadata": {},
     "output_type": "execute_result"
    }
   ],
   "source": [
    "model.wv.most_similar(positive='BTC')"
   ]
  },
  {
   "cell_type": "code",
   "execution_count": 7,
   "metadata": {},
   "outputs": [
    {
     "data": {
      "text/plain": [
       "[('NEM', 0.7372376918792725),\n",
       " ('GPU', 0.7058412432670593),\n",
       " ('ストレージ', 0.7017809152603149),\n",
       " ('MDI', 0.7013821601867676),\n",
       " ('SLI', 0.6985483765602112),\n",
       " ('PLC', 0.694240927696228),\n",
       " ('アクセラレータ', 0.6923989057540894),\n",
       " ('データウェアハウス', 0.6899571418762207),\n",
       " ('EDI', 0.6889105439186096),\n",
       " ('VPN', 0.6871660351753235)]"
      ]
     },
     "execution_count": 7,
     "metadata": {},
     "output_type": "execute_result"
    }
   ],
   "source": [
    "model.wv.most_similar(positive=['通貨', '仮想', 'BTC'])"
   ]
  },
  {
   "cell_type": "code",
   "execution_count": null,
   "metadata": {},
   "outputs": [],
   "source": []
  }
 ],
 "metadata": {
  "kernelspec": {
   "display_name": "Python 3",
   "language": "python",
   "name": "python3"
  },
  "language_info": {
   "codemirror_mode": {
    "name": "ipython",
    "version": 3
   },
   "file_extension": ".py",
   "mimetype": "text/x-python",
   "name": "python",
   "nbconvert_exporter": "python",
   "pygments_lexer": "ipython3",
   "version": "3.7.10"
  }
 },
 "nbformat": 4,
 "nbformat_minor": 2
}
