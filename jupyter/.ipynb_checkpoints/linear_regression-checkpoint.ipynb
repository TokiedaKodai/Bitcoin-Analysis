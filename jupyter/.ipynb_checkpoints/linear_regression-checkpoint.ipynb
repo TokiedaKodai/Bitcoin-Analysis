{
 "cells": [
  {
   "cell_type": "code",
   "execution_count": 11,
   "id": "09887f2d",
   "metadata": {
    "scrolled": true
   },
   "outputs": [],
   "source": [
    "import pandas as pd\n",
    "from pandas import Series, DataFrame\n",
    "import numpy as np\n",
    "import matplotlib.pyplot as plt\n",
    "import seaborn as sns\n",
    "import time\n",
    "import sys\n",
    "import datetime\n",
    "\n",
    "import poloniex\n",
    "\n",
    "import sklearn\n",
    "from sklearn.linear_model import LinearRegression"
   ]
  },
  {
   "cell_type": "code",
   "execution_count": 3,
   "id": "7fa21b16",
   "metadata": {},
   "outputs": [],
   "source": [
    "coin = 'BTC'\n",
    "data_len = 365"
   ]
  },
  {
   "cell_type": "code",
   "execution_count": 4,
   "id": "f1bd55ec",
   "metadata": {},
   "outputs": [],
   "source": [
    "polo = poloniex.Poloniex()\n",
    "period = polo.DAY # period of data\n",
    "end = time.time()\n",
    "start = end - period * (data_len + 50) # +50 to calcurate SMA50\n",
    "\n",
    "chart = polo.returnChartData('USDT_%s'%coin, period=period, start=start, end=end)"
   ]
  },
  {
   "cell_type": "code",
   "execution_count": 5,
   "id": "3d806688",
   "metadata": {},
   "outputs": [],
   "source": [
    "df = DataFrame.from_dict(chart)\n",
    "timestamp = df['date'].values.tolist() # Series -> ndarray -> list\n",
    "# timestamp -> year/month/day\n",
    "date = [datetime.datetime.fromtimestamp(timestamp[i]).date() for i in range(len(timestamp))]\n",
    "df = df.astype(float)\n",
    "df['date'] = date\n",
    "df['timestamp'] = timestamp"
   ]
  },
  {
   "cell_type": "code",
   "execution_count": 6,
   "id": "604f540a",
   "metadata": {},
   "outputs": [
    {
     "data": {
      "text/html": [
       "<div>\n",
       "<style scoped>\n",
       "    .dataframe tbody tr th:only-of-type {\n",
       "        vertical-align: middle;\n",
       "    }\n",
       "\n",
       "    .dataframe tbody tr th {\n",
       "        vertical-align: top;\n",
       "    }\n",
       "\n",
       "    .dataframe thead th {\n",
       "        text-align: right;\n",
       "    }\n",
       "</style>\n",
       "<table border=\"1\" class=\"dataframe\">\n",
       "  <thead>\n",
       "    <tr style=\"text-align: right;\">\n",
       "      <th></th>\n",
       "      <th>date</th>\n",
       "      <th>high</th>\n",
       "      <th>low</th>\n",
       "      <th>open</th>\n",
       "      <th>close</th>\n",
       "      <th>volume</th>\n",
       "      <th>quoteVolume</th>\n",
       "      <th>weightedAverage</th>\n",
       "      <th>timestamp</th>\n",
       "    </tr>\n",
       "  </thead>\n",
       "  <tbody>\n",
       "    <tr>\n",
       "      <th>0</th>\n",
       "      <td>2020-03-31</td>\n",
       "      <td>6410.982209</td>\n",
       "      <td>6410.982209</td>\n",
       "      <td>6410.982209</td>\n",
       "      <td>6410.982209</td>\n",
       "      <td>0.000000e+00</td>\n",
       "      <td>0.000000</td>\n",
       "      <td>6410.982209</td>\n",
       "      <td>1585651085</td>\n",
       "    </tr>\n",
       "    <tr>\n",
       "      <th>1</th>\n",
       "      <td>2020-04-01</td>\n",
       "      <td>6675.984935</td>\n",
       "      <td>6149.144177</td>\n",
       "      <td>6410.982209</td>\n",
       "      <td>6643.996446</td>\n",
       "      <td>2.555357e+07</td>\n",
       "      <td>4011.450977</td>\n",
       "      <td>6370.156616</td>\n",
       "      <td>1585699200</td>\n",
       "    </tr>\n",
       "    <tr>\n",
       "      <th>2</th>\n",
       "      <td>2020-04-02</td>\n",
       "      <td>7200.000000</td>\n",
       "      <td>6558.940502</td>\n",
       "      <td>6646.340355</td>\n",
       "      <td>6793.958633</td>\n",
       "      <td>3.674219e+07</td>\n",
       "      <td>5410.017158</td>\n",
       "      <td>6791.510280</td>\n",
       "      <td>1585785600</td>\n",
       "    </tr>\n",
       "    <tr>\n",
       "      <th>3</th>\n",
       "      <td>2020-04-03</td>\n",
       "      <td>7039.345599</td>\n",
       "      <td>6603.029259</td>\n",
       "      <td>6792.586711</td>\n",
       "      <td>6737.353136</td>\n",
       "      <td>2.561776e+07</td>\n",
       "      <td>3759.295470</td>\n",
       "      <td>6814.511694</td>\n",
       "      <td>1585872000</td>\n",
       "    </tr>\n",
       "    <tr>\n",
       "      <th>4</th>\n",
       "      <td>2020-04-04</td>\n",
       "      <td>6989.176802</td>\n",
       "      <td>6652.995459</td>\n",
       "      <td>6734.658991</td>\n",
       "      <td>6859.081095</td>\n",
       "      <td>1.645887e+07</td>\n",
       "      <td>2425.690093</td>\n",
       "      <td>6785.233911</td>\n",
       "      <td>1585958400</td>\n",
       "    </tr>\n",
       "  </tbody>\n",
       "</table>\n",
       "</div>"
      ],
      "text/plain": [
       "         date         high          low         open        close  \\\n",
       "0  2020-03-31  6410.982209  6410.982209  6410.982209  6410.982209   \n",
       "1  2020-04-01  6675.984935  6149.144177  6410.982209  6643.996446   \n",
       "2  2020-04-02  7200.000000  6558.940502  6646.340355  6793.958633   \n",
       "3  2020-04-03  7039.345599  6603.029259  6792.586711  6737.353136   \n",
       "4  2020-04-04  6989.176802  6652.995459  6734.658991  6859.081095   \n",
       "\n",
       "         volume  quoteVolume  weightedAverage   timestamp  \n",
       "0  0.000000e+00     0.000000      6410.982209  1585651085  \n",
       "1  2.555357e+07  4011.450977      6370.156616  1585699200  \n",
       "2  3.674219e+07  5410.017158      6791.510280  1585785600  \n",
       "3  2.561776e+07  3759.295470      6814.511694  1585872000  \n",
       "4  1.645887e+07  2425.690093      6785.233911  1585958400  "
      ]
     },
     "execution_count": 6,
     "metadata": {},
     "output_type": "execute_result"
    }
   ],
   "source": [
    "df.head()"
   ]
  },
  {
   "cell_type": "code",
   "execution_count": 39,
   "id": "61111c5f",
   "metadata": {},
   "outputs": [],
   "source": [
    "x_data = np.array(df.index).reshape(-1, 1)\n",
    "y_data = np.array(df['close'].values).reshape(-1, 1)"
   ]
  },
  {
   "cell_type": "code",
   "execution_count": 40,
   "id": "688c424c",
   "metadata": {},
   "outputs": [],
   "source": [
    "test_len = 56\n",
    "\n",
    "x_train = x_data[:-test_len, :]\n",
    "y_train = y_data[:-test_len, :]\n",
    "x_test = x_data[-test_len:, :]\n",
    "y_test = y_data[-test_len:, :]"
   ]
  },
  {
   "cell_type": "code",
   "execution_count": 41,
   "id": "d24b0304",
   "metadata": {},
   "outputs": [],
   "source": [
    "lr = LinearRegression().fit(x_train, y_train)"
   ]
  },
  {
   "cell_type": "code",
   "execution_count": 42,
   "id": "3ff2a49c",
   "metadata": {},
   "outputs": [
    {
     "name": "stdout",
     "output_type": "stream",
     "text": [
      "coef [[122.41279008]]\n",
      "intercept [-2385.14702841]\n"
     ]
    }
   ],
   "source": [
    "print('coef', lr.coef_)\n",
    "print('intercept', lr.intercept_)"
   ]
  },
  {
   "cell_type": "code",
   "execution_count": 43,
   "id": "e05ae3f1",
   "metadata": {},
   "outputs": [],
   "source": [
    "pred = lr.predict(x_data)"
   ]
  },
  {
   "cell_type": "code",
   "execution_count": 46,
   "id": "3ff3c139",
   "metadata": {},
   "outputs": [
    {
     "data": {
      "text/plain": [
       "<matplotlib.legend.Legend at 0x1428bf26108>"
      ]
     },
     "execution_count": 46,
     "metadata": {},
     "output_type": "execute_result"
    },
    {
     "data": {
      "image/png": "[encoded data removed]",
      "text/plain": [
       "<Figure size 432x288 with 1 Axes>"
      ]
     },
     "metadata": {
      "needs_background": "light"
     },
     "output_type": "display_data"
    }
   ],
   "source": [
    "plt.plot(x_train, y_train, label='Train')\n",
    "plt.plot(x_test, y_test, label='Test')\n",
    "plt.plot(pred, label='Predict')\n",
    "plt.legend()"
   ]
  },
  {
   "cell_type": "code",
   "execution_count": null,
   "id": "09f689e9",
   "metadata": {},
   "outputs": [],
   "source": []
  }
 ],
 "metadata": {
  "kernelspec": {
   "display_name": "Python 3",
   "language": "python",
   "name": "python3"
  },
  "language_info": {
   "codemirror_mode": {
    "name": "ipython",
    "version": 3
   },
   "file_extension": ".py",
   "mimetype": "text/x-python",
   "name": "python",
   "nbconvert_exporter": "python",
   "pygments_lexer": "ipython3",
   "version": "3.7.10"
  }
 },
 "nbformat": 4,
 "nbformat_minor": 5
}
