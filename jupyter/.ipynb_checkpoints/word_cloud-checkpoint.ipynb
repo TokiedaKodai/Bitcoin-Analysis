{
 "cells": [
  {
   "cell_type": "code",
   "execution_count": 1,
   "metadata": {},
   "outputs": [],
   "source": [
    "import pandas as pd\n",
    "from pandas import Series, DataFrame\n",
    "import json\n",
    "from janome.tokenizer import Tokenizer\n",
    "from requests_oauthlib import OAuth1Session\n",
    "from wordcloud import WordCloud\n",
    "import emoji\n",
    "import re"
   ]
  },
  {
   "cell_type": "code",
   "execution_count": 29,
   "metadata": {},
   "outputs": [],
   "source": [
    "def create_oauth_session(oauth_key_dict):\n",
    "    oauth = OAuth1Session(\n",
    "        oauth_key_dict['consumer_key'],\n",
    "        oauth_key_dict['consumer_secret'],\n",
    "        oauth_key_dict['access_token'],\n",
    "        oauth_key_dict['access_token_secret']\n",
    "    )\n",
    "    return oauth\n",
    "\n",
    "def tweet(oauth, text):\n",
    "    url = 'https://api.twitter.com/1.1/statuses/update.json'\n",
    "    params = {'status': text + '\\n#TweetFromPy'}\n",
    "    req = oauth.post(url, params)\n",
    "\n",
    "    if req.status_code == 200:\n",
    "        print('tweet succeed!')\n",
    "    else:\n",
    "        print('tweet failed')\n",
    "        \n",
    "def tweet_image(oauth, text, image_file):\n",
    "    url_media = \"https://upload.twitter.com/1.1/media/upload.json\"\n",
    "    url_text = \"https://api.twitter.com/1.1/statuses/update.json\"\n",
    "    \n",
    "    files = {\"media\" : open(image_file, 'rb')}\n",
    "    req_media = oauth.post(url_media, files = files)\n",
    "    if req_media.status_code != 200:\n",
    "        print ('media upload failed: %s', req_media.text)\n",
    "        exit()\n",
    "        \n",
    "    media_id = json.loads(req_media.text)['media_id']\n",
    "    print (\"Media ID: %d\" % media_id)\n",
    "    \n",
    "    params = {'status': text + '\\n#TweetFromPy', 'media_ids': [media_id]}\n",
    "    req = oauth.post(url_text, params)\n",
    "\n",
    "    if req.status_code == 200:\n",
    "        print('tweet succeed!')\n",
    "    else:\n",
    "        print('tweet failed')\n",
    "        \n",
    "def tweet_search(search_word, num, oauth):\n",
    "    url = 'https://api.twitter.com/1.1/search/tweets.json'\n",
    "    params = {\n",
    "        'q': search_word,\n",
    "        'count' : num,\n",
    "        'result_type' : 'recent',\n",
    "        'exclude': 'retweets',\n",
    "        'lang' : 'ja'\n",
    "        }\n",
    "    responce = oauth.get(url, params=params)\n",
    "    if responce.status_code != 200:\n",
    "        print(\"Error code: %d\" %(responce.status_code))\n",
    "        return None\n",
    "    tweets = json.loads(responce.text)\n",
    "    return tweets\n",
    "\n",
    "keysfile = '../../twitter_API/key/keys.json'\n",
    "keys = json.load(open(keysfile))\n",
    "oauth = create_oauth_session(keys)"
   ]
  },
  {
   "cell_type": "code",
   "execution_count": 3,
   "metadata": {},
   "outputs": [],
   "source": [
    "def remove_emoji(text):\n",
    "    return ''.join(c for c in text if c not in emoji.UNICODE_EMOJI['en'])\n",
    "\n",
    "def remove_url(text):\n",
    "    return re.sub(r'https?://[\\w/:%#\\$&\\?\\(\\)~\\.=\\+\\-]+', '', text)"
   ]
  },
  {
   "cell_type": "code",
   "execution_count": 4,
   "metadata": {},
   "outputs": [],
   "source": [
    "search = tweet_search(\"ビットコイン\", 100, oauth)\n",
    "df_search = DataFrame.from_dict(search['statuses'])\n",
    "tweets = df_search['text'].tolist()"
   ]
  },
  {
   "cell_type": "code",
   "execution_count": 5,
   "metadata": {},
   "outputs": [
    {
     "data": {
      "text/plain": [
       "['年内に3倍以上？👀🔥ビットコインもイーサリアムも急騰中！XRP最新情報＆熱いオルトコインChainlinkとFrontierが提携！Dogeコインの謎の急成長とNFT最新情報！（動画）… https://t.co/JFLLfQ37Ax',\n",
       " 'イーサリアムがトレンド入りしてる。\\n年末のビットコインの伸びを鑑みると、3,400ドルがいったんの節目だと思ってる。\\n\\n#100万行くまで売りません\\n#ETH #イーサリアム',\n",
       " 'ビットコイン、買いたい気持ち、焦る気持ちが値段が上がるにつれて出てくるけど、我慢が大事ですよね',\n",
       " 'BAT ベーシックアテンショントークンは\\nPoL @PoL_techtec のサイトで学べます！\\n\\n仮想通貨は値動きの上下だけではなく、\\n使用されている技術について見識を深めるのもよきですね！\\n\\nビットコイン や イーサリアムもP… https://t.co/dsY7F5o1RG',\n",
       " '@UNOu3JaOmk4Tt9i ビットコイン😁？',\n",
       " 'ビットコインの最後の半減期後ってどうなるんですか？',\n",
       " 'ビットコインまためちゃくちゃ巻き返してるね。1万円分だけしかないけど、せっかくだから何があっても置いておこうかな…。',\n",
       " '@fuyuto_topics ウォレットを始めた頃ビットコインがもう高めだったので低いイーサムに絞りました。\\nこれからもポイントは下がればビットコインとイーサムを買い続けます。',\n",
       " 'ビットコイン買ってる人！\\nどこのサイトで買ってる？？',\n",
       " '短期トレードのイメージ\\n\\n東大に行ける人がいるように、可能性は否定できないし\\nTwitterにはそれ以上の超人がいっぱいる。ビットコインみたいな可能性もあるわけだしな。人生良きも悪くも何があるか分からん！ https://t.co/11YFRcdnAF']"
      ]
     },
     "execution_count": 5,
     "metadata": {},
     "output_type": "execute_result"
    }
   ],
   "source": [
    "tweets[:10]"
   ]
  },
  {
   "cell_type": "code",
   "execution_count": 6,
   "metadata": {},
   "outputs": [],
   "source": [
    "texts = []\n",
    "for tweet in tweets:\n",
    "    text = tweet\n",
    "    text = remove_emoji(text)\n",
    "    text = remove_url(text)\n",
    "    texts.append(text)"
   ]
  },
  {
   "cell_type": "code",
   "execution_count": 7,
   "metadata": {},
   "outputs": [
    {
     "data": {
      "text/plain": [
       "['年内に3倍以上？ビットコインもイーサリアムも急騰中！XRP最新情報＆熱いオルトコインChainlinkとFrontierが提携！Dogeコインの謎の急成長とNFT最新情報！（動画）… ',\n",
       " 'イーサリアムがトレンド入りしてる。\\n年末のビットコインの伸びを鑑みると、3,400ドルがいったんの節目だと思ってる。\\n\\n#100万行くまで売りません\\n#ETH #イーサリアム',\n",
       " 'ビットコイン、買いたい気持ち、焦る気持ちが値段が上がるにつれて出てくるけど、我慢が大事ですよね',\n",
       " 'BAT ベーシックアテンショントークンは\\nPoL @PoL_techtec のサイトで学べます！\\n\\n仮想通貨は値動きの上下だけではなく、\\n使用されている技術について見識を深めるのもよきですね！\\n\\nビットコイン や イーサリアムもP… ',\n",
       " '@UNOu3JaOmk4Tt9i ビットコイン？',\n",
       " 'ビットコインの最後の半減期後ってどうなるんですか？',\n",
       " 'ビットコインまためちゃくちゃ巻き返してるね。1万円分だけしかないけど、せっかくだから何があっても置いておこうかな…。',\n",
       " '@fuyuto_topics ウォレットを始めた頃ビットコインがもう高めだったので低いイーサムに絞りました。\\nこれからもポイントは下がればビットコインとイーサムを買い続けます。',\n",
       " 'ビットコイン買ってる人！\\nどこのサイトで買ってる？？',\n",
       " '短期トレードのイメージ\\n\\n東大に行ける人がいるように、可能性は否定できないし\\nTwitterにはそれ以上の超人がいっぱいる。ビットコインみたいな可能性もあるわけだしな。人生良きも悪くも何があるか分からん！ ']"
      ]
     },
     "execution_count": 7,
     "metadata": {},
     "output_type": "execute_result"
    }
   ],
   "source": [
    "texts[:10]"
   ]
  },
  {
   "cell_type": "code",
   "execution_count": 8,
   "metadata": {},
   "outputs": [],
   "source": [
    "from janome.tokenizer import Tokenizer"
   ]
  },
  {
   "cell_type": "code",
   "execution_count": 9,
   "metadata": {},
   "outputs": [],
   "source": [
    "t = Tokenizer()\n",
    "worddic = {}"
   ]
  },
  {
   "cell_type": "code",
   "execution_count": 10,
   "metadata": {},
   "outputs": [],
   "source": [
    "for line in texts:\n",
    "    malist = t.tokenize(line)\n",
    "    for w in malist:\n",
    "        word = w.surface\n",
    "        part = w.part_of_speech\n",
    "        if part.find('名詞') < 0:\n",
    "            continue\n",
    "        if not word in worddic:\n",
    "            worddic[word] = 0\n",
    "        worddic[word] += 1"
   ]
  },
  {
   "cell_type": "code",
   "execution_count": 21,
   "metadata": {},
   "outputs": [
    {
     "name": "stdout",
     "output_type": "stream",
     "text": [
      "コイン(133)\n",
      "ビット(127)\n",
      "#(45)\n",
      "円(44)\n",
      "通貨(39)\n",
      "仮想(32)\n",
      "万(22)\n",
      "イーサリアム(19)\n",
      ",(18)\n",
      "の(17)\n",
      "@(14)\n",
      "3(13)\n",
      "人(13)\n",
      ")(13)\n",
      "BTC(13)\n",
      "こと(12)\n",
      "1(10)\n",
      "ん(9)\n",
      "((9)\n",
      "投資(9)\n",
      "登録(9)\n",
      "/(9)\n",
      ".(9)\n",
      "価格(9)\n",
      "分(8)\n",
      "取引(8)\n",
      "的(8)\n",
      "方(8)\n",
      "中(7)\n",
      "暗号(7)\n",
      "時(7)\n",
      ":(7)\n",
      "現在(7)\n",
      "+(7)\n",
      "%(7)\n",
      "売買(7)\n",
      "以上(6)\n",
      "ETH(6)\n",
      "_(6)\n",
      "サイト(6)\n",
      "みたい(6)\n",
      "資産(6)\n",
      "まとめ(6)\n",
      "21(6)\n",
      "私(6)\n",
      "年(6)\n",
      "入金(6)\n",
      "自動(6)\n",
      "000(6)\n",
      "後(5)\n"
     ]
    }
   ],
   "source": [
    "trend_words = ''\n",
    "keys = sorted(worddic.items(), key=lambda x:x[1], reverse=True)\n",
    "for word, cnt in keys[:50]:\n",
    "    trend_words += word + ' '\n",
    "    print('{0}({1})'.format(word, cnt))"
   ]
  },
  {
   "cell_type": "code",
   "execution_count": 14,
   "metadata": {},
   "outputs": [],
   "source": [
    "def word_cloud(words, image_file, font_path='C:\\Windows/Fonts/MSGOTHIC.TTC'):\n",
    "    wordcloud = WordCloud(\n",
    "            background_color='white', font_path=font_path,   ## 日本語フォントを指定\n",
    "            width=800, height=400).generate(words)\n",
    "\n",
    "    ## 結果をファイルへ保存\n",
    "    wordcloud.to_file(image_file)\n",
    "\n",
    "    return True"
   ]
  },
  {
   "cell_type": "code",
   "execution_count": 22,
   "metadata": {},
   "outputs": [
    {
     "data": {
      "text/plain": [
       "True"
      ]
     },
     "execution_count": 22,
     "metadata": {},
     "output_type": "execute_result"
    }
   ],
   "source": [
    "word_cloud(trend_words, 'word_cloud_test.png')"
   ]
  },
  {
   "cell_type": "code",
   "execution_count": 26,
   "metadata": {},
   "outputs": [
    {
     "data": {
      "text/plain": [
       "'search word: ビットコイン\\nsearch tweets num: 10\\ntrend words num: 50'"
      ]
     },
     "execution_count": 26,
     "metadata": {},
     "output_type": "execute_result"
    }
   ],
   "source": [
    "search_word = 'ビットコイン'\n",
    "search_num = 10\n",
    "trend_word_num = 50\n",
    "tweet_text = 'search word: {}\\nsearch tweets num: {}\\ntrend words num: {}'.format(search_word, search_num, trend_word_num)\n",
    "tweet_text"
   ]
  },
  {
   "cell_type": "code",
   "execution_count": 27,
   "metadata": {},
   "outputs": [
    {
     "name": "stdout",
     "output_type": "stream",
     "text": [
      "search word: ビットコイン\n",
      "search tweets num: 10\n",
      "trend words num: 50\n"
     ]
    }
   ],
   "source": [
    "print(tweet_text)"
   ]
  },
  {
   "cell_type": "code",
   "execution_count": 30,
   "metadata": {},
   "outputs": [
    {
     "name": "stdout",
     "output_type": "stream",
     "text": [
      "Media ID: 1389200235184877569\n",
      "tweet succeed!\n"
     ]
    }
   ],
   "source": [
    "tweet_image(oauth, tweet_text, 'word_cloud_test.png')"
   ]
  },
  {
   "cell_type": "code",
   "execution_count": null,
   "metadata": {},
   "outputs": [],
   "source": []
  }
 ],
 "metadata": {
  "kernelspec": {
   "display_name": "Python 3",
   "language": "python",
   "name": "python3"
  },
  "language_info": {
   "codemirror_mode": {
    "name": "ipython",
    "version": 3
   },
   "file_extension": ".py",
   "mimetype": "text/x-python",
   "name": "python",
   "nbconvert_exporter": "python",
   "pygments_lexer": "ipython3",
   "version": "3.7.10"
  }
 },
 "nbformat": 4,
 "nbformat_minor": 2
}
