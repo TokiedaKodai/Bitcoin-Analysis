{
 "cells": [
  {
   "cell_type": "code",
   "execution_count": 1,
   "metadata": {},
   "outputs": [],
   "source": [
    "import pandas as pd\n",
    "from pandas import Series, DataFrame\n",
    "import json\n",
    "from janome.tokenizer import Tokenizer\n",
    "from requests_oauthlib import OAuth1Session\n",
    "from wordcloud import WordCloud\n",
    "import emoji\n",
    "import re\n",
    "import csv"
   ]
  },
  {
   "cell_type": "code",
   "execution_count": 2,
   "metadata": {},
   "outputs": [],
   "source": [
    "def create_oauth_session(oauth_key_dict):\n",
    "    oauth = OAuth1Session(\n",
    "        oauth_key_dict['consumer_key'],\n",
    "        oauth_key_dict['consumer_secret'],\n",
    "        oauth_key_dict['access_token'],\n",
    "        oauth_key_dict['access_token_secret']\n",
    "    )\n",
    "    return oauth\n",
    "\n",
    "def tweet(oauth, text):\n",
    "    url = 'https://api.twitter.com/1.1/statuses/update.json'\n",
    "    params = {'status': text + '\\n#TweetFromPy'}\n",
    "    req = oauth.post(url, params)\n",
    "\n",
    "    if req.status_code == 200:\n",
    "        print('tweet succeed!')\n",
    "    else:\n",
    "        print('tweet failed')\n",
    "        \n",
    "def tweet_image(oauth, text, image_file):\n",
    "    url_media = \"https://upload.twitter.com/1.1/media/upload.json\"\n",
    "    url_text = \"https://api.twitter.com/1.1/statuses/update.json\"\n",
    "    \n",
    "    files = {\"media\" : open(image_file, 'rb')}\n",
    "    req_media = oauth.post(url_media, files = files)\n",
    "    if req_media.status_code != 200:\n",
    "        print ('media upload failed: %s', req_media.text)\n",
    "        exit()\n",
    "        \n",
    "    media_id = json.loads(req_media.text)['media_id']\n",
    "    print (\"Media ID: %d\" % media_id)\n",
    "    \n",
    "    params = {'status': text + '\\n#TweetFromPy', 'media_ids': [media_id]}\n",
    "    req = oauth.post(url_text, params)\n",
    "\n",
    "    if req.status_code == 200:\n",
    "        print('tweet succeed!')\n",
    "    else:\n",
    "        print('tweet failed')\n",
    "        \n",
    "def tweet_search(search_word, num, oauth):\n",
    "    url = 'https://api.twitter.com/1.1/search/tweets.json'\n",
    "    params = {\n",
    "        'q': search_word,\n",
    "        'count' : num,\n",
    "        'result_type' : 'recent',\n",
    "        'exclude': 'retweets',\n",
    "        'lang' : 'ja'\n",
    "        }\n",
    "    responce = oauth.get(url, params=params)\n",
    "    if responce.status_code != 200:\n",
    "        print(\"Error code: %d\" %(responce.status_code))\n",
    "        return None\n",
    "    tweets = json.loads(responce.text)\n",
    "    return tweets\n",
    "\n",
    "keysfile = '../../twitter_API/key/keys.json'\n",
    "keys = json.load(open(keysfile))\n",
    "oauth = create_oauth_session(keys)"
   ]
  },
  {
   "cell_type": "code",
   "execution_count": 3,
   "metadata": {},
   "outputs": [],
   "source": [
    "def remove_emoji(text):\n",
    "    return ''.join(c for c in text if c not in emoji.UNICODE_EMOJI['en'])\n",
    "\n",
    "def remove_url(text):\n",
    "    return re.sub(r'https?://[\\w/:%#\\$&\\?\\(\\)~\\.=\\+\\-]+', '', text)"
   ]
  },
  {
   "cell_type": "code",
   "execution_count": 4,
   "metadata": {},
   "outputs": [],
   "source": [
    "search = tweet_search(\"ビットコイン\", 100, oauth)\n",
    "df_search = DataFrame.from_dict(search['statuses'])\n",
    "tweets = df_search['text'].tolist()"
   ]
  },
  {
   "cell_type": "code",
   "execution_count": 5,
   "metadata": {},
   "outputs": [
    {
     "data": {
      "text/plain": [
       "['米S&amp;P、ビットコインとイーサの価格指数を開始\\nhttps://t.co/Wqp4rOFNQ1\\n#暗号資産 #仮想通貨 #ビットコイン #副業 #主婦 https://t.co/wLQDw20qO6',\n",
       " 'ビットコインのターン！笑\\n#BTC',\n",
       " 'イーサの天井が390000あたりを想定してたので、利確ぴったりんこ\\u3000ビットコイン現物に換えました！成功！0.08増えたよ！',\n",
       " 'f7ee33be3aeb8485\\n毎日ニュースを見るだけだビットコインがもらえる‼️\\ncheeseアプリ登録時に入れたらビットコインもらえるよ！#cheese #ビットコイン',\n",
       " 'ビットコインだけど400円くらい資産増えたｗｗｗ\\nこのままずっと漬けておくんだぁ',\n",
       " '3/14？ぐらいから掘ってたビットコインが2万になったので現金化した',\n",
       " '金子勇/ファイル共有ソフト『Winny』の開発者として知られる情報工学者。著名な裁判「Winny事件」（ネットを扱うなら知っておいた方がいいだろう）にて無罪となるも、疲労が祟ったのか2013年に43歳で夭折。起業家の仲津正朗によれ… https://t.co/24cARFoHJM',\n",
       " 'ビットコイン30万円下がってる！買い増しチャンス😇\\n\\n#投資家さんと繋がりたい\\n#投資初心者 https://t.co/N4bJJHOA50',\n",
       " '有事のビットコインとなるか',\n",
       " 'BitCin(ビットコイン)を買うならここ！\\nCoinCheck⇒https://t.co/ksBjJp0haN']"
      ]
     },
     "execution_count": 5,
     "metadata": {},
     "output_type": "execute_result"
    }
   ],
   "source": [
    "tweets[:10]"
   ]
  },
  {
   "cell_type": "code",
   "execution_count": 6,
   "metadata": {},
   "outputs": [],
   "source": [
    "texts = []\n",
    "for tweet in tweets:\n",
    "    text = tweet\n",
    "    text = remove_emoji(text)\n",
    "    text = remove_url(text)\n",
    "    texts.append(text)"
   ]
  },
  {
   "cell_type": "code",
   "execution_count": 7,
   "metadata": {},
   "outputs": [
    {
     "data": {
      "text/plain": [
       "['米S&amp;P、ビットコインとイーサの価格指数を開始\\n\\n#暗号資産 #仮想通貨 #ビットコイン #副業 #主婦 ',\n",
       " 'ビットコインのターン！笑\\n#BTC',\n",
       " 'イーサの天井が390000あたりを想定してたので、利確ぴったりんこ\\u3000ビットコイン現物に換えました！成功！0.08増えたよ！',\n",
       " 'f7ee33be3aeb8485\\n毎日ニュースを見るだけだビットコインがもらえる️\\ncheeseアプリ登録時に入れたらビットコインもらえるよ！#cheese #ビットコイン',\n",
       " 'ビットコインだけど400円くらい資産増えたｗｗｗ\\nこのままずっと漬けておくんだぁ',\n",
       " '3/14？ぐらいから掘ってたビットコインが2万になったので現金化した',\n",
       " '金子勇/ファイル共有ソフト『Winny』の開発者として知られる情報工学者。著名な裁判「Winny事件」（ネットを扱うなら知っておいた方がいいだろう）にて無罪となるも、疲労が祟ったのか2013年に43歳で夭折。起業家の仲津正朗によれ… ',\n",
       " 'ビットコイン30万円下がってる！買い増しチャンス\\n\\n#投資家さんと繋がりたい\\n#投資初心者 ',\n",
       " '有事のビットコインとなるか',\n",
       " 'BitCin(ビットコイン)を買うならここ！\\nCoinCheck⇒']"
      ]
     },
     "execution_count": 7,
     "metadata": {},
     "output_type": "execute_result"
    }
   ],
   "source": [
    "texts[:10]"
   ]
  },
  {
   "cell_type": "code",
   "execution_count": 8,
   "metadata": {},
   "outputs": [],
   "source": [
    "from janome.tokenizer import Tokenizer"
   ]
  },
  {
   "cell_type": "code",
   "execution_count": 16,
   "metadata": {},
   "outputs": [],
   "source": [
    "t = Tokenizer()\n",
    "worddic = {}"
   ]
  },
  {
   "cell_type": "code",
   "execution_count": 17,
   "metadata": {},
   "outputs": [],
   "source": [
    "for line in texts:\n",
    "    malist = t.tokenize(line)\n",
    "    for w in malist:\n",
    "        word = w.surface\n",
    "        part = w.part_of_speech\n",
    "        if part.find('名詞') < 0:\n",
    "            continue\n",
    "        if not word in worddic:\n",
    "            worddic[word] = 0\n",
    "        worddic[word] += 1"
   ]
  },
  {
   "cell_type": "code",
   "execution_count": 18,
   "metadata": {},
   "outputs": [
    {
     "name": "stdout",
     "output_type": "stream",
     "text": [
      "コイン(124)\n",
      "ビット(121)\n",
      "#(46)\n",
      "通貨(40)\n",
      "仮想(37)\n",
      "円(31)\n",
      ",(19)\n",
      "万(17)\n",
      "@(15)\n",
      "BTC(13)\n",
      "ニュース(13)\n",
      "イーサリアム(13)\n",
      "1(12)\n",
      "((11)\n",
      "－(11)\n",
      "0(10)\n",
      "の(10)\n",
      "投資(10)\n",
      "まとめ(10)\n",
      ":(10)\n",
      "$(10)\n",
      "資産(9)\n",
      "/(9)\n",
      ")(9)\n",
      "速報(9)\n",
      "News(9)\n",
      "毎日(8)\n",
      "ん(8)\n",
      "2(8)\n",
      "000(8)\n",
      "今(8)\n",
      "価格(7)\n",
      "暗号(7)\n",
      "登録(7)\n",
      "人(7)\n",
      "米(6)\n",
      "イーサ(6)\n",
      ".(6)\n",
      "アプリ(6)\n",
      "時(6)\n",
      "方(6)\n",
      "取引(6)\n",
      "_(6)\n",
      "分(6)\n",
      "無料(6)\n",
      "開始(5)\n",
      "さん(5)\n",
      "送金(5)\n",
      "4(5)\n",
      "リップル(5)\n"
     ]
    }
   ],
   "source": [
    "trend_words = ''\n",
    "keys = sorted(worddic.items(), key=lambda x:x[1], reverse=True)\n",
    "for word, cnt in keys[:50]:\n",
    "    trend_words += word + ' '\n",
    "    print('{0}({1})'.format(word, cnt))"
   ]
  },
  {
   "cell_type": "code",
   "execution_count": 11,
   "metadata": {},
   "outputs": [],
   "source": [
    "def word_cloud(words, image_file, font_path='C:\\Windows/Fonts/MSGOTHIC.TTC'):\n",
    "    wordcloud = WordCloud(\n",
    "            background_color='white', font_path=font_path,   ## 日本語フォントを指定\n",
    "            width=800, height=400).generate(words)\n",
    "\n",
    "    ## 結果をファイルへ保存\n",
    "    wordcloud.to_file(image_file)\n",
    "\n",
    "    return True"
   ]
  },
  {
   "cell_type": "code",
   "execution_count": 22,
   "metadata": {},
   "outputs": [
    {
     "data": {
      "text/plain": [
       "True"
      ]
     },
     "execution_count": 22,
     "metadata": {},
     "output_type": "execute_result"
    }
   ],
   "source": [
    "word_cloud(trend_words, 'word_cloud_test.png')"
   ]
  },
  {
   "cell_type": "code",
   "execution_count": 26,
   "metadata": {},
   "outputs": [
    {
     "data": {
      "text/plain": [
       "'search word: ビットコイン\\nsearch tweets num: 10\\ntrend words num: 50'"
      ]
     },
     "execution_count": 26,
     "metadata": {},
     "output_type": "execute_result"
    }
   ],
   "source": [
    "search_word = 'ビットコイン'\n",
    "search_num = 10\n",
    "trend_word_num = 50\n",
    "tweet_text = 'search word: {}\\nsearch tweets num: {}\\ntrend words num: {}'.format(search_word, search_num, trend_word_num)\n",
    "tweet_text"
   ]
  },
  {
   "cell_type": "code",
   "execution_count": 27,
   "metadata": {},
   "outputs": [
    {
     "name": "stdout",
     "output_type": "stream",
     "text": [
      "search word: ビットコイン\n",
      "search tweets num: 10\n",
      "trend words num: 50\n"
     ]
    }
   ],
   "source": [
    "print(tweet_text)"
   ]
  },
  {
   "cell_type": "code",
   "execution_count": 30,
   "metadata": {},
   "outputs": [
    {
     "name": "stdout",
     "output_type": "stream",
     "text": [
      "Media ID: 1389200235184877569\n",
      "tweet succeed!\n"
     ]
    }
   ],
   "source": [
    "tweet_image(oauth, tweet_text, 'word_cloud_test.png')"
   ]
  },
  {
   "cell_type": "code",
   "execution_count": 29,
   "metadata": {},
   "outputs": [],
   "source": [
    "def get_wakachi(list_text, word, hinshi=['名詞', '形容詞']):\n",
    "    remove_words = ['こと', 'よう', 'そう', 'これ', 'それ', 'もの', 'ここ', 'さん', \n",
    "                'ところ', 'とこ', word]\n",
    "    t = Tokenizer()\n",
    "    wakachi = ''\n",
    "    for text in list_text:\n",
    "        malist = t.tokenize(text)\n",
    "        for w in malist:\n",
    "            word = w.surface\n",
    "            part = w.part_of_speech\n",
    "            hit = False\n",
    "            for h in hinshi:\n",
    "                hit = hit or (h in part)\n",
    "            if not hit:\n",
    "                continue\n",
    "            if word not in remove_words:\n",
    "                wakachi += word + ' '\n",
    "    print(wakachi)\n",
    "    return wakachi"
   ]
  },
  {
   "cell_type": "code",
   "execution_count": 30,
   "metadata": {},
   "outputs": [
    {
     "name": "stdout",
     "output_type": "stream",
     "text": [
      "米 S & amp ; P ビット コイン イーサ 価格 指数 開始 # 暗号 資産 # 仮想 通貨 # ビット コイン # 副業 # 主婦 ビット コイン ターン 笑 # BTC イーサ 天井 390000 あたり 想定 利 確 こ ビット コイン 現物 成功 0 . 08 f 7 ee 33 be 3 aeb 8485 毎日 ニュース ビット コイン cheese アプリ 登録 時 ビット コイン # cheese # ビット コイン ビット コイン 400 円 資産 ｗｗｗ まま ん ぁ 3 / 14 ビット コイン 2 万 現金 化 金子 勇 / ファイル 共有 ソフト Winny 開発 者 情報 工学 者 著名 裁判 Winny 事件 ネット 方 いい 無罪 疲労 の 2013 年 43 歳 夭折 起業 家 仲 津 正朗 ビット コイン 30 万 円 増し チャンス # 投資 家 # 投資 初心者 有事 ビット コイン BitCin ( ビット コイン ) CoinCheck ⇒ ビット コイン どこ CO 2 カーボン 銘柄 ビット コイン 価格 上昇 マイニング 二酸化炭素 排出 浮き彫り ドーブ ターン 先 ビット コイン 取引 一般 貨幣 送金 違い 送金 手数料 ビット コイン 移動 超 少額 費用 以外 手数料 の 通常 銀行 送金 場合 国内 送金 数 百 円 海外 送金 4 , 000 円 8 , 000 円 程度 仮想 通貨 定点 観測 ( 1 , 234 日 目 )】 BTC 2 , 654 , 791 円 ETH 4 , 946 , 621 円 XRP 2 , 062 , 269 円 XEM 2 , 486 , 833 円 ( 利 確済 み ) 積立 原資 各 39 万 円 ( 毎月 1 万 円 ) 毎日 自動 ビット コイン 下げ トレンド 継続 ビット コイン 下落 笑 5 万 幅 指値 笑 0 . 0003 btc v (￣ ー ￣) v @ konsone _ p 1 ビット コイン お願い 11 時 仮想 通貨 レート ビット コイン / 円 612 万 2482 円 ビット コイン FX / 円 659 万 8065 円 イーサリアム / 円 36 万 0982 円 リップル / 円 162 . 53 円 # zaifx # 仮想 通貨 # ビット コイン チ 仮想 通貨 ニュース 速報 － 仮想 通貨 まとめ News : ビット コイン 暴落 修正 違い GW 暗号 資産 基本 ( 投資 シミュレーション ) ビット コイン 売却 5 月 4 日 11 時 0 分 現在 保有 資産 1 . 0818 BTC CME ビット コイン 先物 窓 真相 解説 - 窓 発生 確率 窓 期間 - @ CryptoTimes _ mag 現在 ビット コイン 価格 6107364 . 0 円 AI 1 時間 後 価格 予想 前回 予想 現在 予測 正答 率 54 % # ビット コイン # BTC # AI ビット コイン 仮想 通貨 リスク 事前 リスク 予防 コイン チェック リスク # ビット コイン 安全 性 今回 バブル ガチホ ビット コイン 原資 抜き の 良い 点 あと 野 山 BTC 毎日 積立 144 日 目 毎日 任意 時間 １ ０ ０ 円 分 購入 積立 ビット コイン 関係 ない イーサリアム 勢い 凄い ビット コイン 活 cheeese 記事 アンケート ショッピング ビット コイン 人 招待 コード 入力 0 ⃣. 0 ⃣ 0 ⃣ 0 ⃣ 0 ⃣ 1 ⃣ BTC 招待 コード ビット コイン やすく 資産 運用 プロ ビット コイン トーク # お金 # 投資 # 株 # fx トレーダー # fx # 副業 仮想 通貨 まとめ 主催 ２ 回 ビット コイン 会 開催 仮想 通貨 大好き 人 ～！！ # 仮想 通貨 　# ビット コイン 　# NAGEZENI 　# コミュニティ 　# 会 　# 交流 会 お 得 仮想 通貨 ビット コイン 無料 方法 無料 アプリ 記事 動画 ポイント ビット コイン 交換 普段 買い物 OK 国内 取引 所 キャンペーン プロモーション 正直 今後 １ 週間 1 ヶ月 間 ビット コイン 予想 テクニカル 分析 ニュース イーサ 調整 おいら ポートフォリオ $ XVS $ CAKE $ BNB 最近 $ VET $ DOGE ノー ダメ ビット コイン 警戒 期間 # ETH # BTC @ eyPAqjX 8 tC 2 LgFf ウェーイ ビット コイン 米 S & amp ; P ビット コイン イーサ 価格 指数 開始 CoinDesk Japan # Yahoo ニュース # XRP ビット コイン 影響 の イーサリアム みたい 自立 アフロ 立派 ビット コイン 影響 ん $ AMD CONTRACT 0 xdef 575 aea 01 bfc 170 d 1839 b 7 ebd 2 e 5 b 8 ea 58 c 13 e みなさん ビット コイン うまく リバ 鳥 自分 テレビ ロング ... ( 下げ @ OL 20225358 最近 ビットフライヤー ビット コイン 毎日 積立 ん 購入 履歴 取得 単価 の いくら 購入 ビット コイン FX VirtueForex オススメ レバレッジ 10 倍 BTCJPY ETHJPY 日本人 嬉しい 日本円 建て 通貨 ペア 取引 可能 Bybit いい 円建て 通貨 ペア ない 不便 ビット コイン 君 ボラ 激し ^_^ 毎日 50 , 000 人 以上 無料 アプリ ぴた コイン 今 ビット コイン ゲット 登録 当たり 楽しみ 毎日 50 , 000 人 以上 無料 アプリ ぴた コイン 今 ビット コイン ゲット 登録 ビット コイン 推移 激しい 冥王星 逆行 ビット コイン ん ビット コイン SPBTC ティッカーシンボル イーサリアム SPETH 両 暗号 資産 複合 インデックス SPCMC 米 S & amp ; P ビット コイン イーサ 価格 指数 開始 ( CoinDesk Japan )… 今 PC ( 主 ゲーム 目的 ) 方 半導体 不足 / ビット コイン 高騰 パーツ 高騰 自作 BTO 高騰 傾向 現行 ハイエンド 性能 ガン 振り 高 消費 電力 ミドル クラス 帯 高 価格 コス パ まじ 悪い ペア 取引 方 いい 前 デイトレ ビット コイン 再開 ロット 管理 利食い タイミング 感覚 呼吸 みたい もん 嘘 嘘 スキル 無い 搾取 世界 本当 敵 取引 板 向こう 隣人 w ホント ビット コイン 怖い グレイ スケール 親会社 DCG ビット コイン 投信 購入 権限 5 億 ドル 追加 # SmartNews イーサ アルト ビット コイン 日にち 近い @ AwVw 7 daqs 4 TwJr 3 @ arimoto _ kaori 不正 署名 数 不足 やすい 不正 田中 本気 懐 横領 目標 達成 の ビット コイン 等 検索 ツイート 方 ビット コイン トレード QUOREA ( クオレア ) おすすめ ロボット 自動 売買 プロフィール URL 無料 登録 & amp ; 自動 売買 開始 方 私 Amazon ギフト 券 3 , 000 円 分 プレゼント ビット コイン 専門 店 BitcoinShop 当店 話題 仮想 通貨 Bitcoin 始め 様々 レアコイン コレクション いかが ハイレバロンガー 定期 的 ビット コイン # BTC 知名度 No . 1 現在 ¥ 606 万 台 横 移動 中 ビット コイン BTC ) リアルタイム 2021 / 05 / 04 10 : 40 # 仮想 通貨 # 投資 # お金 # 暗号 資産 # 金融 # ビジネス # 投資 家 # 億 人 # BTC # ビット コイン ビット コイン さっき 急落 底 ナン ピン 低 ロット 救出 逆 張り 脳 急落 怖い 時 逆 指値 ん ビット スタート 100 円 分 ビット コイン ♪ 登録 時 招待 コード jvNyes # ビット スタート # bitstart # ビット コイン 楽天 ro 朝 ビット コイン 低 レバショート 成功 残り - 65 万 @ vcnukko ビット コイン ビット コイン 道連れ @ ea _ fx _ suzuki @ ClamGBP ホント ビット コイン 怖い 二 度 後 目覚め 一 度目 とき 指値 の 指値 よかっ 休み チャート 時間 ビット コイン どこ ん いつ の いつ いい の お 勉強 ビット コイン 投資 アルト コイン 危険 意見 周り 意見 自分 投資 判断 2020 年 59 , 000 円 バフェット 株 相関 係数 注目 SPAC ビット コイン 批判 via @ YouTube 仮想 通貨 おすすめ ビット コイン 今 イーサリアム 調整 リップル 強い ビット コイン イーサリアム リップル 値動き 解説 仮想 通貨 イーサリアム 時価 総額 ディズニー 超 仮想 通貨 投資 資金 ビット コイン アルト [ 田 杉 山脈 ★] : 仮想 通貨 ニュース 速報 － 仮想 通貨 まとめ News 仮想 通貨 おすすめ ビット コイン 今 イーサリアム 調整 リップル 強い ビット コイン イーサリアム リップル 値動き 解説 将来 ビット コイン 買い物 ん 著名 コメディアン ビル・マー 氏 ビット コイン 批判 : 仮想 通貨 ニュース 速報 － 仮想 通貨 まとめ News @ mkv 01 ビット コイン ビット コイン イーサリアム [ CoinDesk Japan ] ビット コイン プルーフ オブ ワーク PoW － GW 暗号 資産 基本 ビット コイン 流れ 予想 : 仮想 通貨 ニュース 速報 － 仮想 通貨 まとめ News ビット コイン BTC 入 出金 オンライン カジノ ビット コイン おすすめ カジノ 入 出金 方法 解説 付き # 暗号 通貨 # 仮想 通貨 # ビット コイン $ BTC ビット コイン 何 ない 嫌 商品 チャーリー・マンガー 氏 : 仮想 通貨 ニュース 速報 － 仮想 通貨 まとめ News ビット カジノ 24 時間 生 中継 ライブバカラ ライブブラックジャック ライブ ルーレット ライブ カジノ 1 , 400 以上 提供 ビット コイン 人 いい (*´… 辛辣 チャーリーマンガー ファン • 米国 州 マフィア 宝くじ 興行 元 交代 • ビット コイン 誘拐 犯 • SPAC 殺し 屋 ビット コイン 方 感じ 値動き bitFlyer 友達 招待 URL 1 , 000 円 分 ビット コイン ゲット ビット コイン 中 : 仮想 通貨 ニュース 速報 － 仮想 通貨 まとめ News 米 オハイオ ビット コイン 詐欺 多発 FBI 対策 : 仮想 通貨 ニュース 速報 － 仮想 通貨 まとめ News イーサリアム 時価 総額 ディズニー 超 仮想 通貨 投資 資金 ビット コイン アルト ビット コイン 次 発見 億 万 長者 : 仮想 通貨 ニュース 速報 － 仮想 通貨 まとめ News 話題 仮想 通貨 ビット コイン ニュース 最強 アプリ cheeese 今 登録 時 2 a 562 daac 9 acf 410 入力 ビット コイン 多め チャンス 毎日 50 , 000 人 以上 無料 アプリ ぴた コイン 今 ビット コイン ゲット 登録 ビット コイン なん の : 仮想 通貨 ニュース 速報 － 仮想 通貨 まとめ News ビット コイン イーサリアム プチ 暴落 爆上 げ 希望 ビット コイン 大型 アップデート Taproot 実装 テスト 開始 @ coin _ post [ CoinDesk Japan ] ビット コイン プルーフ オブ ワーク PoW － GW 暗号 資産 基本 @ Hino 07203793 法的 所有 権 移転 出版 社 閲覧 権 移転 技術 的 ビット コイン ブロック チェーン 譲渡 可能 データ 紙 そのもの 劣化 @ tuberuIOSTINX @ 40 xlwgABAnfSiwT 全て 解除 機種 変更 後 バイナンス PC コイン チェック ビット バンク ケータイ 二 段階 認証 設定 スキマ 時間 楽 チン 携帯 1 お 小遣い 稼ぎ 紹介 中 貧乏 子持ち 転売 ヤー ユーロ ドル ビット コイン メール オペレーター 大 予言 ビット コイン 年内 1000 万 円 ビット コイン 激しい 圧 下落 トレンド 突入 なく 銘柄 仮想 通貨 マジ 10 ％ 下落 日常 茶飯事 笑 大 予言 ビット コイン 年内 300 万 円 大 予言 ビット コイン 年内 200 万 円 大 予言 ビット コイン 年内 100 万 円 米 ナスダック 上場 企業 Mogo イーサリアム ( ETH ) 購入 ( 4 , 400 万 円 分 ) Mogo 米 ナスダック カナダ トロント 証券 取引 所 上場 フィン テック 企業 少量 ビット コイン アルト コイン 上場 企業 $ ETC 全 振り 理屈 $ SOL $ BTC 下げ 強い 今 トレンド 他 ビット コイン 下げ 強い 銘柄 何 ん 大 予言 ビット コイン 年内 1 億 円 ビット コイン 570 万 安心 \n"
     ]
    },
    {
     "data": {
      "text/plain": [
       "'米 S & amp ; P ビット コイン イーサ 価格 指数 開始 # 暗号 資産 # 仮想 通貨 # ビット コイン # 副業 # 主婦 ビット コイン ターン 笑 # BTC イーサ 天井 390000 あたり 想定 利 確 こ ビット コイン 現物 成功 0 . 08 f 7 ee 33 be 3 aeb 8485 毎日 ニュース ビット コイン cheese アプリ 登録 時 ビット コイン # cheese # ビット コイン ビット コイン 400 円 資産 ｗｗｗ まま ん ぁ 3 / 14 ビット コイン 2 万 現金 化 金子 勇 / ファイル 共有 ソフト Winny 開発 者 情報 工学 者 著名 裁判 Winny 事件 ネット 方 いい 無罪 疲労 の 2013 年 43 歳 夭折 起業 家 仲 津 正朗 ビット コイン 30 万 円 増し チャンス # 投資 家 # 投資 初心者 有事 ビット コイン BitCin ( ビット コイン ) CoinCheck ⇒ ビット コイン どこ CO 2 カーボン 銘柄 ビット コイン 価格 上昇 マイニング 二酸化炭素 排出 浮き彫り ドーブ ターン 先 ビット コイン 取引 一般 貨幣 送金 違い 送金 手数料 ビット コイン 移動 超 少額 費用 以外 手数料 の 通常 銀行 送金 場合 国内 送金 数 百 円 海外 送金 4 , 000 円 8 , 000 円 程度 仮想 通貨 定点 観測 ( 1 , 234 日 目 )】 BTC 2 , 654 , 791 円 ETH 4 , 946 , 621 円 XRP 2 , 062 , 269 円 XEM 2 , 486 , 833 円 ( 利 確済 み ) 積立 原資 各 39 万 円 ( 毎月 1 万 円 ) 毎日 自動 ビット コイン 下げ トレンド 継続 ビット コイン 下落 笑 5 万 幅 指値 笑 0 . 0003 btc v (￣ ー ￣) v @ konsone _ p 1 ビット コイン お願い 11 時 仮想 通貨 レート ビット コイン / 円 612 万 2482 円 ビット コイン FX / 円 659 万 8065 円 イーサリアム / 円 36 万 0982 円 リップル / 円 162 . 53 円 # zaifx # 仮想 通貨 # ビット コイン チ 仮想 通貨 ニュース 速報 － 仮想 通貨 まとめ News : ビット コイン 暴落 修正 違い GW 暗号 資産 基本 ( 投資 シミュレーション ) ビット コイン 売却 5 月 4 日 11 時 0 分 現在 保有 資産 1 . 0818 BTC CME ビット コイン 先物 窓 真相 解説 - 窓 発生 確率 窓 期間 - @ CryptoTimes _ mag 現在 ビット コイン 価格 6107364 . 0 円 AI 1 時間 後 価格 予想 前回 予想 現在 予測 正答 率 54 % # ビット コイン # BTC # AI ビット コイン 仮想 通貨 リスク 事前 リスク 予防 コイン チェック リスク # ビット コイン 安全 性 今回 バブル ガチホ ビット コイン 原資 抜き の 良い 点 あと 野 山 BTC 毎日 積立 144 日 目 毎日 任意 時間 １ ０ ０ 円 分 購入 積立 ビット コイン 関係 ない イーサリアム 勢い 凄い ビット コイン 活 cheeese 記事 アンケート ショッピング ビット コイン 人 招待 コード 入力 0 ⃣. 0 ⃣ 0 ⃣ 0 ⃣ 0 ⃣ 1 ⃣ BTC 招待 コード ビット コイン やすく 資産 運用 プロ ビット コイン トーク # お金 # 投資 # 株 # fx トレーダー # fx # 副業 仮想 通貨 まとめ 主催 ２ 回 ビット コイン 会 開催 仮想 通貨 大好き 人 ～！！ # 仮想 通貨 \\u3000# ビット コイン \\u3000# NAGEZENI \\u3000# コミュニティ \\u3000# 会 \\u3000# 交流 会 お 得 仮想 通貨 ビット コイン 無料 方法 無料 アプリ 記事 動画 ポイント ビット コイン 交換 普段 買い物 OK 国内 取引 所 キャンペーン プロモーション 正直 今後 １ 週間 1 ヶ月 間 ビット コイン 予想 テクニカル 分析 ニュース イーサ 調整 おいら ポートフォリオ $ XVS $ CAKE $ BNB 最近 $ VET $ DOGE ノー ダメ ビット コイン 警戒 期間 # ETH # BTC @ eyPAqjX 8 tC 2 LgFf ウェーイ ビット コイン 米 S & amp ; P ビット コイン イーサ 価格 指数 開始 CoinDesk Japan # Yahoo ニュース # XRP ビット コイン 影響 の イーサリアム みたい 自立 アフロ 立派 ビット コイン 影響 ん $ AMD CONTRACT 0 xdef 575 aea 01 bfc 170 d 1839 b 7 ebd 2 e 5 b 8 ea 58 c 13 e みなさん ビット コイン うまく リバ 鳥 自分 テレビ ロング ... ( 下げ @ OL 20225358 最近 ビットフライヤー ビット コイン 毎日 積立 ん 購入 履歴 取得 単価 の いくら 購入 ビット コイン FX VirtueForex オススメ レバレッジ 10 倍 BTCJPY ETHJPY 日本人 嬉しい 日本円 建て 通貨 ペア 取引 可能 Bybit いい 円建て 通貨 ペア ない 不便 ビット コイン 君 ボラ 激し ^_^ 毎日 50 , 000 人 以上 無料 アプリ ぴた コイン 今 ビット コイン ゲット 登録 当たり 楽しみ 毎日 50 , 000 人 以上 無料 アプリ ぴた コイン 今 ビット コイン ゲット 登録 ビット コイン 推移 激しい 冥王星 逆行 ビット コイン ん ビット コイン SPBTC ティッカーシンボル イーサリアム SPETH 両 暗号 資産 複合 インデックス SPCMC 米 S & amp ; P ビット コイン イーサ 価格 指数 開始 ( CoinDesk Japan )… 今 PC ( 主 ゲーム 目的 ) 方 半導体 不足 / ビット コイン 高騰 パーツ 高騰 自作 BTO 高騰 傾向 現行 ハイエンド 性能 ガン 振り 高 消費 電力 ミドル クラス 帯 高 価格 コス パ まじ 悪い ペア 取引 方 いい 前 デイトレ ビット コイン 再開 ロット 管理 利食い タイミング 感覚 呼吸 みたい もん 嘘 嘘 スキル 無い 搾取 世界 本当 敵 取引 板 向こう 隣人 w ホント ビット コイン 怖い グレイ スケール 親会社 DCG ビット コイン 投信 購入 権限 5 億 ドル 追加 # SmartNews イーサ アルト ビット コイン 日にち 近い @ AwVw 7 daqs 4 TwJr 3 @ arimoto _ kaori 不正 署名 数 不足 やすい 不正 田中 本気 懐 横領 目標 達成 の ビット コイン 等 検索 ツイート 方 ビット コイン トレード QUOREA ( クオレア ) おすすめ ロボット 自動 売買 プロフィール URL 無料 登録 & amp ; 自動 売買 開始 方 私 Amazon ギフト 券 3 , 000 円 分 プレゼント ビット コイン 専門 店 BitcoinShop 当店 話題 仮想 通貨 Bitcoin 始め 様々 レアコイン コレクション いかが ハイレバロンガー 定期 的 ビット コイン # BTC 知名度 No . 1 現在 ¥ 606 万 台 横 移動 中 ビット コイン BTC ) リアルタイム 2021 / 05 / 04 10 : 40 # 仮想 通貨 # 投資 # お金 # 暗号 資産 # 金融 # ビジネス # 投資 家 # 億 人 # BTC # ビット コイン ビット コイン さっき 急落 底 ナン ピン 低 ロット 救出 逆 張り 脳 急落 怖い 時 逆 指値 ん ビット スタート 100 円 分 ビット コイン ♪ 登録 時 招待 コード jvNyes # ビット スタート # bitstart # ビット コイン 楽天 ro 朝 ビット コイン 低 レバショート 成功 残り - 65 万 @ vcnukko ビット コイン ビット コイン 道連れ @ ea _ fx _ suzuki @ ClamGBP ホント ビット コイン 怖い 二 度 後 目覚め 一 度目 とき 指値 の 指値 よかっ 休み チャート 時間 ビット コイン どこ ん いつ の いつ いい の お 勉強 ビット コイン 投資 アルト コイン 危険 意見 周り 意見 自分 投資 判断 2020 年 59 , 000 円 バフェット 株 相関 係数 注目 SPAC ビット コイン 批判 via @ YouTube 仮想 通貨 おすすめ ビット コイン 今 イーサリアム 調整 リップル 強い ビット コイン イーサリアム リップル 値動き 解説 仮想 通貨 イーサリアム 時価 総額 ディズニー 超 仮想 通貨 投資 資金 ビット コイン アルト [ 田 杉 山脈 ★] : 仮想 通貨 ニュース 速報 － 仮想 通貨 まとめ News 仮想 通貨 おすすめ ビット コイン 今 イーサリアム 調整 リップル 強い ビット コイン イーサリアム リップル 値動き 解説 将来 ビット コイン 買い物 ん 著名 コメディアン ビル・マー 氏 ビット コイン 批判 : 仮想 通貨 ニュース 速報 － 仮想 通貨 まとめ News @ mkv 01 ビット コイン ビット コイン イーサリアム [ CoinDesk Japan ] ビット コイン プルーフ オブ ワーク PoW － GW 暗号 資産 基本 ビット コイン 流れ 予想 : 仮想 通貨 ニュース 速報 － 仮想 通貨 まとめ News ビット コイン BTC 入 出金 オンライン カジノ ビット コイン おすすめ カジノ 入 出金 方法 解説 付き # 暗号 通貨 # 仮想 通貨 # ビット コイン $ BTC ビット コイン 何 ない 嫌 商品 チャーリー・マンガー 氏 : 仮想 通貨 ニュース 速報 － 仮想 通貨 まとめ News ビット カジノ 24 時間 生 中継 ライブバカラ ライブブラックジャック ライブ ルーレット ライブ カジノ 1 , 400 以上 提供 ビット コイン 人 いい (*´… 辛辣 チャーリーマンガー ファン • 米国 州 マフィア 宝くじ 興行 元 交代 • ビット コイン 誘拐 犯 • SPAC 殺し 屋 ビット コイン 方 感じ 値動き bitFlyer 友達 招待 URL 1 , 000 円 分 ビット コイン ゲット ビット コイン 中 : 仮想 通貨 ニュース 速報 － 仮想 通貨 まとめ News 米 オハイオ ビット コイン 詐欺 多発 FBI 対策 : 仮想 通貨 ニュース 速報 － 仮想 通貨 まとめ News イーサリアム 時価 総額 ディズニー 超 仮想 通貨 投資 資金 ビット コイン アルト ビット コイン 次 発見 億 万 長者 : 仮想 通貨 ニュース 速報 － 仮想 通貨 まとめ News 話題 仮想 通貨 ビット コイン ニュース 最強 アプリ cheeese 今 登録 時 2 a 562 daac 9 acf 410 入力 ビット コイン 多め チャンス 毎日 50 , 000 人 以上 無料 アプリ ぴた コイン 今 ビット コイン ゲット 登録 ビット コイン なん の : 仮想 通貨 ニュース 速報 － 仮想 通貨 まとめ News ビット コイン イーサリアム プチ 暴落 爆上 げ 希望 ビット コイン 大型 アップデート Taproot 実装 テスト 開始 @ coin _ post [ CoinDesk Japan ] ビット コイン プルーフ オブ ワーク PoW － GW 暗号 資産 基本 @ Hino 07203793 法的 所有 権 移転 出版 社 閲覧 権 移転 技術 的 ビット コイン ブロック チェーン 譲渡 可能 データ 紙 そのもの 劣化 @ tuberuIOSTINX @ 40 xlwgABAnfSiwT 全て 解除 機種 変更 後 バイナンス PC コイン チェック ビット バンク ケータイ 二 段階 認証 設定 スキマ 時間 楽 チン 携帯 1 お 小遣い 稼ぎ 紹介 中 貧乏 子持ち 転売 ヤー ユーロ ドル ビット コイン メール オペレーター 大 予言 ビット コイン 年内 1000 万 円 ビット コイン 激しい 圧 下落 トレンド 突入 なく 銘柄 仮想 通貨 マジ 10 ％ 下落 日常 茶飯事 笑 大 予言 ビット コイン 年内 300 万 円 大 予言 ビット コイン 年内 200 万 円 大 予言 ビット コイン 年内 100 万 円 米 ナスダック 上場 企業 Mogo イーサリアム ( ETH ) 購入 ( 4 , 400 万 円 分 ) Mogo 米 ナスダック カナダ トロント 証券 取引 所 上場 フィン テック 企業 少量 ビット コイン アルト コイン 上場 企業 $ ETC 全 振り 理屈 $ SOL $ BTC 下げ 強い 今 トレンド 他 ビット コイン 下げ 強い 銘柄 何 ん 大 予言 ビット コイン 年内 1 億 円 ビット コイン 570 万 安心 '"
      ]
     },
     "execution_count": 30,
     "metadata": {},
     "output_type": "execute_result"
    }
   ],
   "source": [
    "wakachi = get_wakachi(texts, 'ビットコイン')\n",
    "wakachi"
   ]
  },
  {
   "cell_type": "markdown",
   "metadata": {},
   "source": [
    "# ネガポジ"
   ]
  },
  {
   "cell_type": "code",
   "execution_count": 12,
   "metadata": {},
   "outputs": [
    {
     "name": "stdout",
     "output_type": "stream",
     "text": [
      "0\n",
      "500\n",
      "1000\n",
      "1500\n",
      "2000\n",
      "2500\n",
      "3000\n",
      "3500\n",
      "4000\n",
      "4500\n",
      "5000\n",
      "5500\n",
      "6000\n",
      "6500\n",
      "7000\n",
      "7500\n",
      "8000\n",
      "8500\n",
      "9000\n",
      "9500\n",
      "10000\n",
      "10500\n",
      "11000\n",
      "11500\n",
      "12000\n",
      "12500\n",
      "13000\n",
      "ok\n"
     ]
    }
   ],
   "source": [
    "np_dic = {}\n",
    "fp = open(\"../../lib/pn.csv\", \"rt\", encoding=\"utf-8\")\n",
    "reader = csv.reader(fp, delimiter='\\t')\n",
    "for i, row in enumerate(reader):\n",
    "  name = row[0]\n",
    "  result = row[1]\n",
    "  np_dic[name] = result\n",
    "  if i % 500 == 0: print(i)\n",
    "print(\"ok\")"
   ]
  },
  {
   "cell_type": "code",
   "execution_count": 14,
   "metadata": {},
   "outputs": [
    {
     "name": "stdout",
     "output_type": "stream",
     "text": [
      "p\n",
      "n\n",
      "e\n"
     ]
    }
   ],
   "source": [
    "print(np_dic[\"笑顔\"])\n",
    "print(np_dic[\"嫌い\"])\n",
    "print(np_dic[\"時間\"])"
   ]
  },
  {
   "cell_type": "code",
   "execution_count": 23,
   "metadata": {},
   "outputs": [
    {
     "name": "stdout",
     "output_type": "stream",
     "text": [
      "コイン(p) ビット # 通貨 仮想 円 , 万 @ BTC ニュース イーサリアム 1 ( － 0 の 投資 まとめ : $ 資産(p) / ) 速報 News 毎日 ん 2 000 今 価格(n) 暗号 登録 人 米 イーサ . アプリ 時 方 取引(n) _ 分 無料(p) 開始 さん 送金 4 リップル "
     ]
    }
   ],
   "source": [
    "for word, cnt in keys[:50]:\n",
    "    if word not in np_dic:\n",
    "        print(word, end=' ')\n",
    "    elif np_dic[word] == 'p':\n",
    "        print(word, end='(p) ')\n",
    "    elif np_dic[word] == 'n':\n",
    "        print(word, end='(n) ')\n",
    "    elif np_dic[word] == 'e':\n",
    "        print(word, end=' ')"
   ]
  },
  {
   "cell_type": "code",
   "execution_count": null,
   "metadata": {},
   "outputs": [],
   "source": []
  }
 ],
 "metadata": {
  "kernelspec": {
   "display_name": "Python 3",
   "language": "python",
   "name": "python3"
  },
  "language_info": {
   "codemirror_mode": {
    "name": "ipython",
    "version": 3
   },
   "file_extension": ".py",
   "mimetype": "text/x-python",
   "name": "python",
   "nbconvert_exporter": "python",
   "pygments_lexer": "ipython3",
   "version": "3.7.10"
  }
 },
 "nbformat": 4,
 "nbformat_minor": 2
}
